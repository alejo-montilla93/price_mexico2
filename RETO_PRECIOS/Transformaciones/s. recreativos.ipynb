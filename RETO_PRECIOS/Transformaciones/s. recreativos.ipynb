{
 "cells": [
  {
   "cell_type": "code",
   "execution_count": 1,
   "id": "4ad27db9",
   "metadata": {},
   "outputs": [],
   "source": [
    "import pandas as pd\n",
    "pd.set_option('display.max_columns', 500)\n",
    "import numpy as np\n",
    "from sklearn.metrics.pairwise import haversine_distances\n",
    "from math import radians"
   ]
  },
  {
   "cell_type": "code",
   "execution_count": 2,
   "id": "46390285",
   "metadata": {},
   "outputs": [],
   "source": [
    "pref = 'recreativo'"
   ]
  },
  {
   "cell_type": "code",
   "execution_count": 3,
   "id": "b64008a6",
   "metadata": {},
   "outputs": [
    {
     "name": "stderr",
     "output_type": "stream",
     "text": [
      "C:\\Users\\alber\\anaconda3\\lib\\site-packages\\IPython\\core\\interactiveshell.py:3444: DtypeWarning: Columns (35) have mixed types.Specify dtype option on import or set low_memory=False.\n",
      "  exec(code_obj, self.user_global_ns, self.user_ns)\n"
     ]
    }
   ],
   "source": [
    "df1 = pd.read_csv('reto_precios.csv')\n",
    "df2 = pd.read_csv('recreativos.csv', encoding='latin-1')"
   ]
  },
  {
   "cell_type": "code",
   "execution_count": 4,
   "id": "84d47653",
   "metadata": {},
   "outputs": [
    {
     "data": {
      "text/plain": [
       "Index(['id', 'clee', 'nom_estab', 'raz_social', 'codigo_act', 'nombre_act',\n",
       "       'per_ocu', 'tipo_vial', 'nom_vial', 'tipo_v_e_1', 'nom_v_e_1',\n",
       "       'tipo_v_e_2', 'nom_v_e_2', 'tipo_v_e_3', 'nom_v_e_3', 'numero_ext',\n",
       "       'letra_ext', 'edificio', 'edificio_e', 'numero_int', 'letra_int',\n",
       "       'tipo_asent', 'nomb_asent', 'tipoCenCom', 'nom_CenCom', 'num_local',\n",
       "       'cod_postal', 'cve_ent', 'entidad', 'cve_mun', 'municipio', 'cve_loc',\n",
       "       'localidad', 'ageb', 'manzana', 'telefono', 'correoelec', 'www',\n",
       "       'tipoUniEco', 'latitud', 'longitud', 'fecha_alta'],\n",
       "      dtype='object')"
      ]
     },
     "execution_count": 4,
     "metadata": {},
     "output_type": "execute_result"
    }
   ],
   "source": [
    "df2.columns"
   ]
  },
  {
   "cell_type": "code",
   "execution_count": 5,
   "id": "b49cd348",
   "metadata": {},
   "outputs": [],
   "source": [
    "df1 = df1[['id','lat','lon']]\n",
    "# Cambiar los nombres de las variables en df1 agregando sufijo 1\n",
    "df1 = df1.rename(columns={ 'lat': 'lat1', 'lon': 'lon1'})\n",
    "# Cambiar los nombres de las variables en df2 agregando sufijo 2\n",
    "df2 = df2.rename(columns={'id': 'id2', 'latitud': 'lat2', 'longitud': 'lon2'})\n"
   ]
  },
  {
   "cell_type": "code",
   "execution_count": 6,
   "id": "6eeeb356",
   "metadata": {},
   "outputs": [],
   "source": [
    "# Definir la tolerancia espacial (en kilómetros)\n",
    "tolerancia = 0.5\n",
    "\n",
    "# Convertir las latitudes y longitudes a radianes\n",
    "df1['lat_rad1'] = df1['lat1'].apply(radians)\n",
    "df1['lon_rad1'] = df1['lon1'].apply(radians)\n",
    "df2['lat_rad2'] = df2['lat2'].apply(radians)\n",
    "df2['lon_rad2'] = df2['lon2'].apply(radians)"
   ]
  },
  {
   "cell_type": "code",
   "execution_count": 7,
   "id": "9bed2a40",
   "metadata": {},
   "outputs": [],
   "source": [
    "# Calcular la distancia haversine entre las coordenadas\n",
    "distances = haversine_distances(df1[['lat_rad1', 'lon_rad1']], df2[['lat_rad2', 'lon_rad2']]) * 6371000/1000  # Convertir a kilómetros\n",
    "\n",
    "# Encontrar las coincidencias dentro de la tolerancia\n",
    "matches = distances <= tolerancia"
   ]
  },
  {
   "cell_type": "code",
   "execution_count": 8,
   "id": "540a91d8",
   "metadata": {},
   "outputs": [],
   "source": [
    "matching_indices = np.where(matches)\n",
    "\n",
    "# Crear una lista para almacenar los DataFrames combinados\n",
    "combined_dfs = []\n",
    "\n",
    "# Iterar sobre los índices y columnas de coincidencias\n",
    "for idx, col in zip(*matching_indices):\n",
    "    # Obtener los registros coincidentes de df1 y df2\n",
    "    matching_record_df1 = df1.loc[idx]\n",
    "    matching_record_df2 = df2.loc[col]\n",
    "    \n",
    "    # Combinar los registros en un DataFrame\n",
    "    combined_record = pd.concat([matching_record_df1, matching_record_df2])\n",
    "    combined_dfs.append(combined_record)\n",
    "\n",
    "# Concatenar todos los DataFrames combinados en uno solo\n",
    "final_combined_df = pd.concat(combined_dfs, axis=1).T"
   ]
  },
  {
   "cell_type": "code",
   "execution_count": 9,
   "id": "96981bd5",
   "metadata": {},
   "outputs": [
    {
     "data": {
      "text/html": [
       "<div>\n",
       "<style scoped>\n",
       "    .dataframe tbody tr th:only-of-type {\n",
       "        vertical-align: middle;\n",
       "    }\n",
       "\n",
       "    .dataframe tbody tr th {\n",
       "        vertical-align: top;\n",
       "    }\n",
       "\n",
       "    .dataframe thead th {\n",
       "        text-align: right;\n",
       "    }\n",
       "</style>\n",
       "<table border=\"1\" class=\"dataframe\">\n",
       "  <thead>\n",
       "    <tr style=\"text-align: right;\">\n",
       "      <th></th>\n",
       "      <th>id</th>\n",
       "      <th>lat1</th>\n",
       "      <th>lon1</th>\n",
       "      <th>lat_rad1</th>\n",
       "      <th>lon_rad1</th>\n",
       "      <th>id2</th>\n",
       "      <th>clee</th>\n",
       "      <th>nom_estab</th>\n",
       "      <th>raz_social</th>\n",
       "      <th>codigo_act</th>\n",
       "      <th>nombre_act</th>\n",
       "      <th>per_ocu</th>\n",
       "      <th>tipo_vial</th>\n",
       "      <th>nom_vial</th>\n",
       "      <th>tipo_v_e_1</th>\n",
       "      <th>nom_v_e_1</th>\n",
       "      <th>tipo_v_e_2</th>\n",
       "      <th>nom_v_e_2</th>\n",
       "      <th>tipo_v_e_3</th>\n",
       "      <th>nom_v_e_3</th>\n",
       "      <th>numero_ext</th>\n",
       "      <th>letra_ext</th>\n",
       "      <th>edificio</th>\n",
       "      <th>edificio_e</th>\n",
       "      <th>numero_int</th>\n",
       "      <th>letra_int</th>\n",
       "      <th>tipo_asent</th>\n",
       "      <th>nomb_asent</th>\n",
       "      <th>tipoCenCom</th>\n",
       "      <th>nom_CenCom</th>\n",
       "      <th>num_local</th>\n",
       "      <th>cod_postal</th>\n",
       "      <th>cve_ent</th>\n",
       "      <th>entidad</th>\n",
       "      <th>cve_mun</th>\n",
       "      <th>municipio</th>\n",
       "      <th>cve_loc</th>\n",
       "      <th>localidad</th>\n",
       "      <th>ageb</th>\n",
       "      <th>manzana</th>\n",
       "      <th>telefono</th>\n",
       "      <th>correoelec</th>\n",
       "      <th>www</th>\n",
       "      <th>tipoUniEco</th>\n",
       "      <th>lat2</th>\n",
       "      <th>lon2</th>\n",
       "      <th>fecha_alta</th>\n",
       "      <th>lat_rad2</th>\n",
       "      <th>lon_rad2</th>\n",
       "    </tr>\n",
       "  </thead>\n",
       "  <tbody>\n",
       "    <tr>\n",
       "      <th>0</th>\n",
       "      <td>1.0</td>\n",
       "      <td>19.421317</td>\n",
       "      <td>-99.164182</td>\n",
       "      <td>0.338966</td>\n",
       "      <td>-1.730741</td>\n",
       "      <td>894816</td>\n",
       "      <td>09015713943001022000000000U1</td>\n",
       "      <td>AKSYSTEMS</td>\n",
       "      <td>NaN</td>\n",
       "      <td>713943</td>\n",
       "      <td>Centros de acondicionamiento físico del sector...</td>\n",
       "      <td>6 a 10 personas</td>\n",
       "      <td>EJE VIAL</td>\n",
       "      <td>2 PONIENTE (FLORENCIA)</td>\n",
       "      <td>CALLE</td>\n",
       "      <td>LIVERPOOL</td>\n",
       "      <td>CALLE</td>\n",
       "      <td>LONDRES</td>\n",
       "      <td>CALLE</td>\n",
       "      <td>VARSOVIA</td>\n",
       "      <td>51.0</td>\n",
       "      <td>NaN</td>\n",
       "      <td>EDIFICIO SIN NOMBRE</td>\n",
       "      <td>PISO 1</td>\n",
       "      <td>NaN</td>\n",
       "      <td>NaN</td>\n",
       "      <td>COLONIA</td>\n",
       "      <td>JUAREZ</td>\n",
       "      <td>NaN</td>\n",
       "      <td>NaN</td>\n",
       "      <td>NaN</td>\n",
       "      <td>6600.0</td>\n",
       "      <td>9</td>\n",
       "      <td>CIUDAD DE MÉXICO</td>\n",
       "      <td>15</td>\n",
       "      <td>Cuauhtémoc</td>\n",
       "      <td>1</td>\n",
       "      <td>Cuauhtémoc</td>\n",
       "      <td>095A</td>\n",
       "      <td>18</td>\n",
       "      <td>5555338599.0</td>\n",
       "      <td>NaN</td>\n",
       "      <td>NaN</td>\n",
       "      <td>Fijo</td>\n",
       "      <td>19.424195</td>\n",
       "      <td>-99.166338</td>\n",
       "      <td>2014-12</td>\n",
       "      <td>0.339016</td>\n",
       "      <td>-1.730779</td>\n",
       "    </tr>\n",
       "    <tr>\n",
       "      <th>1</th>\n",
       "      <td>1.0</td>\n",
       "      <td>19.421317</td>\n",
       "      <td>-99.164182</td>\n",
       "      <td>0.338966</td>\n",
       "      <td>-1.730741</td>\n",
       "      <td>7732163</td>\n",
       "      <td>09015711111000253000000000U9</td>\n",
       "      <td>ARTESTUDIO</td>\n",
       "      <td>NaN</td>\n",
       "      <td>711111</td>\n",
       "      <td>Compañías de teatro del sector privado</td>\n",
       "      <td>11 a 30 personas</td>\n",
       "      <td>AVENIDA</td>\n",
       "      <td>INSURGENTES SUR</td>\n",
       "      <td>CALLE</td>\n",
       "      <td>DURANGO</td>\n",
       "      <td>CALLE</td>\n",
       "      <td>COLIMA</td>\n",
       "      <td>CALLE</td>\n",
       "      <td>TONALÁ</td>\n",
       "      <td>214.0</td>\n",
       "      <td>NaN</td>\n",
       "      <td>NaN</td>\n",
       "      <td>NaN</td>\n",
       "      <td>0.0</td>\n",
       "      <td>NaN</td>\n",
       "      <td>COLONIA</td>\n",
       "      <td>ROMA NORTE</td>\n",
       "      <td>NaN</td>\n",
       "      <td>NaN</td>\n",
       "      <td>NaN</td>\n",
       "      <td>6700.0</td>\n",
       "      <td>9</td>\n",
       "      <td>CIUDAD DE MÉXICO</td>\n",
       "      <td>15</td>\n",
       "      <td>Cuauhtémoc</td>\n",
       "      <td>1</td>\n",
       "      <td>Cuauhtémoc</td>\n",
       "      <td>1002</td>\n",
       "      <td>16</td>\n",
       "      <td>NaN</td>\n",
       "      <td>INFO@ARTESTUDIO.COM</td>\n",
       "      <td>WWW.ARTESTUDIO.COM</td>\n",
       "      <td>Fijo</td>\n",
       "      <td>19.420026</td>\n",
       "      <td>-99.163925</td>\n",
       "      <td>2019-11</td>\n",
       "      <td>0.338943</td>\n",
       "      <td>-1.730737</td>\n",
       "    </tr>\n",
       "    <tr>\n",
       "      <th>2</th>\n",
       "      <td>1.0</td>\n",
       "      <td>19.421317</td>\n",
       "      <td>-99.164182</td>\n",
       "      <td>0.338966</td>\n",
       "      <td>-1.730741</td>\n",
       "      <td>8842069</td>\n",
       "      <td>09015711510000421000000000U5</td>\n",
       "      <td>ARTISTAS, ESCRITORES Y TÉCNICOS INDEPENDIENTES</td>\n",
       "      <td>NaN</td>\n",
       "      <td>711510</td>\n",
       "      <td>Artistas, escritores y técnicos independientes</td>\n",
       "      <td>0 a 5 personas</td>\n",
       "      <td>CALLE</td>\n",
       "      <td>DURANGO</td>\n",
       "      <td>CALLE</td>\n",
       "      <td>JALAPA</td>\n",
       "      <td>CALLE</td>\n",
       "      <td>TONALA</td>\n",
       "      <td>CALLE</td>\n",
       "      <td>COLIMA</td>\n",
       "      <td>118.0</td>\n",
       "      <td>NaN</td>\n",
       "      <td>NaN</td>\n",
       "      <td>NaN</td>\n",
       "      <td>NaN</td>\n",
       "      <td>NaN</td>\n",
       "      <td>COLONIA</td>\n",
       "      <td>ROMA NORTE</td>\n",
       "      <td>NaN</td>\n",
       "      <td>NaN</td>\n",
       "      <td>NaN</td>\n",
       "      <td>6700.0</td>\n",
       "      <td>9</td>\n",
       "      <td>CIUDAD DE MÉXICO</td>\n",
       "      <td>15</td>\n",
       "      <td>Cuauhtémoc</td>\n",
       "      <td>1</td>\n",
       "      <td>Cuauhtémoc</td>\n",
       "      <td>1002</td>\n",
       "      <td>4</td>\n",
       "      <td>5551054618.0</td>\n",
       "      <td>NaN</td>\n",
       "      <td>WWW.JAVIERAREAN.COM</td>\n",
       "      <td>Fijo</td>\n",
       "      <td>19.420617</td>\n",
       "      <td>-99.162173</td>\n",
       "      <td>2019-11</td>\n",
       "      <td>0.338954</td>\n",
       "      <td>-1.730706</td>\n",
       "    </tr>\n",
       "  </tbody>\n",
       "</table>\n",
       "</div>"
      ],
      "text/plain": [
       "    id       lat1       lon1  lat_rad1  lon_rad1      id2  \\\n",
       "0  1.0  19.421317 -99.164182  0.338966 -1.730741   894816   \n",
       "1  1.0  19.421317 -99.164182  0.338966 -1.730741  7732163   \n",
       "2  1.0  19.421317 -99.164182  0.338966 -1.730741  8842069   \n",
       "\n",
       "                           clee  \\\n",
       "0  09015713943001022000000000U1   \n",
       "1  09015711111000253000000000U9   \n",
       "2  09015711510000421000000000U5   \n",
       "\n",
       "                                        nom_estab raz_social codigo_act  \\\n",
       "0                                       AKSYSTEMS        NaN     713943   \n",
       "1                                      ARTESTUDIO        NaN     711111   \n",
       "2  ARTISTAS, ESCRITORES Y TÉCNICOS INDEPENDIENTES        NaN     711510   \n",
       "\n",
       "                                          nombre_act           per_ocu  \\\n",
       "0  Centros de acondicionamiento físico del sector...   6 a 10 personas   \n",
       "1             Compañías de teatro del sector privado  11 a 30 personas   \n",
       "2     Artistas, escritores y técnicos independientes    0 a 5 personas   \n",
       "\n",
       "  tipo_vial                nom_vial tipo_v_e_1  nom_v_e_1 tipo_v_e_2  \\\n",
       "0  EJE VIAL  2 PONIENTE (FLORENCIA)      CALLE  LIVERPOOL      CALLE   \n",
       "1   AVENIDA         INSURGENTES SUR      CALLE    DURANGO      CALLE   \n",
       "2     CALLE                 DURANGO      CALLE     JALAPA      CALLE   \n",
       "\n",
       "  nom_v_e_2 tipo_v_e_3 nom_v_e_3 numero_ext letra_ext             edificio  \\\n",
       "0   LONDRES      CALLE  VARSOVIA       51.0       NaN  EDIFICIO SIN NOMBRE   \n",
       "1    COLIMA      CALLE    TONALÁ      214.0       NaN                  NaN   \n",
       "2    TONALA      CALLE    COLIMA      118.0       NaN                  NaN   \n",
       "\n",
       "  edificio_e numero_int letra_int tipo_asent  nomb_asent tipoCenCom  \\\n",
       "0     PISO 1        NaN       NaN    COLONIA      JUAREZ        NaN   \n",
       "1        NaN        0.0       NaN    COLONIA  ROMA NORTE        NaN   \n",
       "2        NaN        NaN       NaN    COLONIA  ROMA NORTE        NaN   \n",
       "\n",
       "  nom_CenCom num_local cod_postal cve_ent           entidad cve_mun  \\\n",
       "0        NaN       NaN     6600.0       9  CIUDAD DE MÉXICO      15   \n",
       "1        NaN       NaN     6700.0       9  CIUDAD DE MÉXICO      15   \n",
       "2        NaN       NaN     6700.0       9  CIUDAD DE MÉXICO      15   \n",
       "\n",
       "    municipio cve_loc   localidad  ageb manzana      telefono  \\\n",
       "0  Cuauhtémoc       1  Cuauhtémoc  095A      18  5555338599.0   \n",
       "1  Cuauhtémoc       1  Cuauhtémoc  1002      16           NaN   \n",
       "2  Cuauhtémoc       1  Cuauhtémoc  1002       4  5551054618.0   \n",
       "\n",
       "            correoelec                  www tipoUniEco       lat2       lon2  \\\n",
       "0                  NaN                  NaN       Fijo  19.424195 -99.166338   \n",
       "1  INFO@ARTESTUDIO.COM   WWW.ARTESTUDIO.COM       Fijo  19.420026 -99.163925   \n",
       "2                  NaN  WWW.JAVIERAREAN.COM       Fijo  19.420617 -99.162173   \n",
       "\n",
       "  fecha_alta  lat_rad2  lon_rad2  \n",
       "0    2014-12  0.339016 -1.730779  \n",
       "1    2019-11  0.338943 -1.730737  \n",
       "2    2019-11  0.338954 -1.730706  "
      ]
     },
     "execution_count": 9,
     "metadata": {},
     "output_type": "execute_result"
    }
   ],
   "source": [
    "final_combined_df.head(3)"
   ]
  },
  {
   "cell_type": "code",
   "execution_count": 10,
   "id": "cfa89619",
   "metadata": {},
   "outputs": [
    {
     "data": {
      "text/plain": [
       "18909"
      ]
     },
     "execution_count": 10,
     "metadata": {},
     "output_type": "execute_result"
    }
   ],
   "source": [
    "len(final_combined_df)"
   ]
  },
  {
   "cell_type": "code",
   "execution_count": 11,
   "id": "12b39926",
   "metadata": {},
   "outputs": [
    {
     "data": {
      "text/plain": [
       "11.0     741\n",
       "99.0     713\n",
       "0.0      698\n",
       "133.0    502\n",
       "155.0    492\n",
       "        ... \n",
       "555.0      1\n",
       "243.0      1\n",
       "92.0       1\n",
       "254.0      1\n",
       "78.0       1\n",
       "Name: numero_ext, Length: 200, dtype: int64"
      ]
     },
     "execution_count": 11,
     "metadata": {},
     "output_type": "execute_result"
    }
   ],
   "source": [
    "final_combined_df['numero_ext'].value_counts()"
   ]
  },
  {
   "cell_type": "code",
   "execution_count": 12,
   "id": "01e8a1e0",
   "metadata": {},
   "outputs": [
    {
     "data": {
      "text/plain": [
       "3     1404\n",
       "6     1401\n",
       "16    1278\n",
       "10    1166\n",
       "13    1134\n",
       "19    1133\n",
       "18    1132\n",
       "2     1112\n",
       "21    1043\n",
       "25     971\n",
       "14     929\n",
       "1      843\n",
       "9      638\n",
       "23     615\n",
       "4      601\n",
       "20     588\n",
       "7      483\n",
       "12     448\n",
       "11     445\n",
       "28     329\n",
       "24     292\n",
       "5      259\n",
       "8      194\n",
       "27     126\n",
       "26      85\n",
       "15      84\n",
       "22      46\n",
       "46      41\n",
       "17      35\n",
       "29      27\n",
       "33      12\n",
       "74       5\n",
       "44       3\n",
       "59       3\n",
       "48       2\n",
       "32       1\n",
       "34       1\n",
       "Name: manzana, dtype: int64"
      ]
     },
     "execution_count": 12,
     "metadata": {},
     "output_type": "execute_result"
    }
   ],
   "source": [
    "final_combined_df['manzana'].value_counts()"
   ]
  },
  {
   "cell_type": "code",
   "execution_count": 13,
   "id": "a38c69b5",
   "metadata": {},
   "outputs": [
    {
     "data": {
      "text/plain": [
       "0 a 5 personas        10290\n",
       "11 a 30 personas       3594\n",
       "6 a 10 personas        3529\n",
       "101 a 250 personas      561\n",
       "31 a 50 personas        484\n",
       "51 a 100 personas       413\n",
       "251 y más personas       38\n",
       "Name: per_ocu, dtype: int64"
      ]
     },
     "execution_count": 13,
     "metadata": {},
     "output_type": "execute_result"
    }
   ],
   "source": [
    "final_combined_df['per_ocu'].value_counts()"
   ]
  },
  {
   "cell_type": "code",
   "execution_count": 14,
   "id": "25cc80d1",
   "metadata": {},
   "outputs": [
    {
     "data": {
      "text/plain": [
       "1    10290\n",
       "3     3594\n",
       "2     3529\n",
       "6      561\n",
       "4      484\n",
       "5      413\n",
       "7       38\n",
       "Name: per_ocu, dtype: int64"
      ]
     },
     "execution_count": 14,
     "metadata": {},
     "output_type": "execute_result"
    }
   ],
   "source": [
    "personal_ocupado = {'0 a 5 personas' : 1,\n",
    "'6 a 10 personas' : 2,\n",
    "'11 a 30 personas' : 3,\n",
    "'31 a 50 personas' : 4,\n",
    "'51 a 100 personas' : 5,\n",
    "'101 a 250 personas' : 6,\n",
    "'251 y más personas' : 7}\n",
    "\n",
    "final_combined_df['per_ocu'] = final_combined_df['per_ocu'].replace(personal_ocupado)\n",
    "final_combined_df['per_ocu'].value_counts()"
   ]
  },
  {
   "cell_type": "code",
   "execution_count": 15,
   "id": "a3cd515b",
   "metadata": {},
   "outputs": [],
   "source": [
    "#per_ocu\n",
    "#numero_ext\n",
    "#manzana"
   ]
  },
  {
   "cell_type": "code",
   "execution_count": 16,
   "id": "21a5912c",
   "metadata": {},
   "outputs": [],
   "source": [
    "final_combined_df['dif_lat_rad'] =final_combined_df['lat_rad1']-final_combined_df['lat_rad2']\n",
    "final_combined_df['dif_lon_rad'] =final_combined_df['lon_rad1']-final_combined_df['lon_rad2']"
   ]
  },
  {
   "cell_type": "code",
   "execution_count": 17,
   "id": "6ca7981a",
   "metadata": {},
   "outputs": [
    {
     "data": {
      "text/plain": [
       "0        -0.00005\n",
       "1        0.000023\n",
       "2        0.000012\n",
       "3         0.00003\n",
       "4        0.000039\n",
       "           ...   \n",
       "18904   -0.000052\n",
       "18905   -0.000032\n",
       "18906   -0.000066\n",
       "18907   -0.000059\n",
       "18908   -0.000059\n",
       "Length: 18909, dtype: object"
      ]
     },
     "execution_count": 17,
     "metadata": {},
     "output_type": "execute_result"
    }
   ],
   "source": [
    "(final_combined_df['lat_rad1']-final_combined_df['lat_rad2'])"
   ]
  },
  {
   "cell_type": "code",
   "execution_count": 18,
   "id": "69a9a084",
   "metadata": {},
   "outputs": [
    {
     "data": {
      "text/plain": [
       "CIUDAD DE MÉXICO    18691\n",
       "NUEVO LEÓN            217\n",
       "BAJA CALIFORNIA         1\n",
       "Name: entidad, dtype: int64"
      ]
     },
     "execution_count": 18,
     "metadata": {},
     "output_type": "execute_result"
    }
   ],
   "source": [
    "final_combined_df.entidad.value_counts()"
   ]
  },
  {
   "cell_type": "code",
   "execution_count": 19,
   "id": "bbfce9e6",
   "metadata": {},
   "outputs": [
    {
     "data": {
      "text/html": [
       "<div>\n",
       "<style scoped>\n",
       "    .dataframe tbody tr th:only-of-type {\n",
       "        vertical-align: middle;\n",
       "    }\n",
       "\n",
       "    .dataframe tbody tr th {\n",
       "        vertical-align: top;\n",
       "    }\n",
       "\n",
       "    .dataframe thead th {\n",
       "        text-align: right;\n",
       "    }\n",
       "</style>\n",
       "<table border=\"1\" class=\"dataframe\">\n",
       "  <thead>\n",
       "    <tr style=\"text-align: right;\">\n",
       "      <th></th>\n",
       "      <th>id</th>\n",
       "      <th>dif_lat_rad</th>\n",
       "      <th>dif_lon_rad</th>\n",
       "    </tr>\n",
       "  </thead>\n",
       "  <tbody>\n",
       "    <tr>\n",
       "      <th>1012</th>\n",
       "      <td>54.0</td>\n",
       "      <td>0.00006</td>\n",
       "      <td>-0.000021</td>\n",
       "    </tr>\n",
       "    <tr>\n",
       "      <th>1013</th>\n",
       "      <td>54.0</td>\n",
       "      <td>0.000048</td>\n",
       "      <td>-0.000006</td>\n",
       "    </tr>\n",
       "    <tr>\n",
       "      <th>1014</th>\n",
       "      <td>54.0</td>\n",
       "      <td>-0.00006</td>\n",
       "      <td>0.000035</td>\n",
       "    </tr>\n",
       "    <tr>\n",
       "      <th>1015</th>\n",
       "      <td>54.0</td>\n",
       "      <td>0.000026</td>\n",
       "      <td>0.000008</td>\n",
       "    </tr>\n",
       "    <tr>\n",
       "      <th>1016</th>\n",
       "      <td>54.0</td>\n",
       "      <td>-0.000001</td>\n",
       "      <td>0.000054</td>\n",
       "    </tr>\n",
       "    <tr>\n",
       "      <th>...</th>\n",
       "      <td>...</td>\n",
       "      <td>...</td>\n",
       "      <td>...</td>\n",
       "    </tr>\n",
       "    <tr>\n",
       "      <th>18312</th>\n",
       "      <td>952.0</td>\n",
       "      <td>0.000025</td>\n",
       "      <td>-0.000073</td>\n",
       "    </tr>\n",
       "    <tr>\n",
       "      <th>18313</th>\n",
       "      <td>952.0</td>\n",
       "      <td>-0.000001</td>\n",
       "      <td>-0.000028</td>\n",
       "    </tr>\n",
       "    <tr>\n",
       "      <th>18314</th>\n",
       "      <td>952.0</td>\n",
       "      <td>-0.000012</td>\n",
       "      <td>0.000058</td>\n",
       "    </tr>\n",
       "    <tr>\n",
       "      <th>18315</th>\n",
       "      <td>952.0</td>\n",
       "      <td>-0.00001</td>\n",
       "      <td>0.000047</td>\n",
       "    </tr>\n",
       "    <tr>\n",
       "      <th>18316</th>\n",
       "      <td>952.0</td>\n",
       "      <td>-0.000021</td>\n",
       "      <td>-0.000052</td>\n",
       "    </tr>\n",
       "  </tbody>\n",
       "</table>\n",
       "<p>217 rows × 3 columns</p>\n",
       "</div>"
      ],
      "text/plain": [
       "          id dif_lat_rad dif_lon_rad\n",
       "1012    54.0     0.00006   -0.000021\n",
       "1013    54.0    0.000048   -0.000006\n",
       "1014    54.0    -0.00006    0.000035\n",
       "1015    54.0    0.000026    0.000008\n",
       "1016    54.0   -0.000001    0.000054\n",
       "...      ...         ...         ...\n",
       "18312  952.0    0.000025   -0.000073\n",
       "18313  952.0   -0.000001   -0.000028\n",
       "18314  952.0   -0.000012    0.000058\n",
       "18315  952.0    -0.00001    0.000047\n",
       "18316  952.0   -0.000021   -0.000052\n",
       "\n",
       "[217 rows x 3 columns]"
      ]
     },
     "execution_count": 19,
     "metadata": {},
     "output_type": "execute_result"
    }
   ],
   "source": [
    "final_combined_df[final_combined_df.entidad.str.contains('NUEVO LEÓN')][['id','dif_lat_rad','dif_lon_rad']]"
   ]
  },
  {
   "cell_type": "code",
   "execution_count": 20,
   "id": "77038d1e",
   "metadata": {},
   "outputs": [
    {
     "data": {
      "text/html": [
       "<div>\n",
       "<style scoped>\n",
       "    .dataframe tbody tr th:only-of-type {\n",
       "        vertical-align: middle;\n",
       "    }\n",
       "\n",
       "    .dataframe tbody tr th {\n",
       "        vertical-align: top;\n",
       "    }\n",
       "\n",
       "    .dataframe thead th {\n",
       "        text-align: right;\n",
       "    }\n",
       "</style>\n",
       "<table border=\"1\" class=\"dataframe\">\n",
       "  <thead>\n",
       "    <tr style=\"text-align: right;\">\n",
       "      <th></th>\n",
       "      <th>id</th>\n",
       "      <th>dif_lat_rad</th>\n",
       "      <th>dif_lon_rad</th>\n",
       "    </tr>\n",
       "  </thead>\n",
       "  <tbody>\n",
       "    <tr>\n",
       "      <th>11381</th>\n",
       "      <td>583.0</td>\n",
       "      <td>0.000063</td>\n",
       "      <td>0.00004</td>\n",
       "    </tr>\n",
       "  </tbody>\n",
       "</table>\n",
       "</div>"
      ],
      "text/plain": [
       "          id dif_lat_rad dif_lon_rad\n",
       "11381  583.0    0.000063     0.00004"
      ]
     },
     "execution_count": 20,
     "metadata": {},
     "output_type": "execute_result"
    }
   ],
   "source": [
    "final_combined_df[final_combined_df.entidad.str.contains('BAJA CALIFORNIA')][['id','dif_lat_rad','dif_lon_rad']]"
   ]
  },
  {
   "cell_type": "code",
   "execution_count": 21,
   "id": "f89696f0",
   "metadata": {},
   "outputs": [
    {
     "data": {
      "text/html": [
       "<div>\n",
       "<style scoped>\n",
       "    .dataframe tbody tr th:only-of-type {\n",
       "        vertical-align: middle;\n",
       "    }\n",
       "\n",
       "    .dataframe tbody tr th {\n",
       "        vertical-align: top;\n",
       "    }\n",
       "\n",
       "    .dataframe thead th {\n",
       "        text-align: right;\n",
       "    }\n",
       "</style>\n",
       "<table border=\"1\" class=\"dataframe\">\n",
       "  <thead>\n",
       "    <tr style=\"text-align: right;\">\n",
       "      <th></th>\n",
       "      <th>id</th>\n",
       "      <th>per_ocu</th>\n",
       "      <th>numero_ext</th>\n",
       "      <th>manzana</th>\n",
       "    </tr>\n",
       "  </thead>\n",
       "  <tbody>\n",
       "    <tr>\n",
       "      <th>0</th>\n",
       "      <td>1.0</td>\n",
       "      <td>2</td>\n",
       "      <td>51.0</td>\n",
       "      <td>18</td>\n",
       "    </tr>\n",
       "    <tr>\n",
       "      <th>1</th>\n",
       "      <td>1.0</td>\n",
       "      <td>3</td>\n",
       "      <td>214.0</td>\n",
       "      <td>16</td>\n",
       "    </tr>\n",
       "    <tr>\n",
       "      <th>2</th>\n",
       "      <td>1.0</td>\n",
       "      <td>1</td>\n",
       "      <td>118.0</td>\n",
       "      <td>4</td>\n",
       "    </tr>\n",
       "    <tr>\n",
       "      <th>3</th>\n",
       "      <td>1.0</td>\n",
       "      <td>1</td>\n",
       "      <td>225.0</td>\n",
       "      <td>5</td>\n",
       "    </tr>\n",
       "    <tr>\n",
       "      <th>4</th>\n",
       "      <td>1.0</td>\n",
       "      <td>1</td>\n",
       "      <td>224.0</td>\n",
       "      <td>16</td>\n",
       "    </tr>\n",
       "  </tbody>\n",
       "</table>\n",
       "</div>"
      ],
      "text/plain": [
       "    id  per_ocu numero_ext manzana\n",
       "0  1.0        2       51.0      18\n",
       "1  1.0        3      214.0      16\n",
       "2  1.0        1      118.0       4\n",
       "3  1.0        1      225.0       5\n",
       "4  1.0        1      224.0      16"
      ]
     },
     "execution_count": 21,
     "metadata": {},
     "output_type": "execute_result"
    }
   ],
   "source": [
    "summary = final_combined_df[['id','per_ocu','numero_ext','manzana']]\n",
    "summary.head()"
   ]
  },
  {
   "cell_type": "code",
   "execution_count": 22,
   "id": "ab6955f3",
   "metadata": {},
   "outputs": [],
   "source": [
    "# Definir las columnas para la agrupación y agregación\n",
    "aggregation_columns = ['per_ocu', 'numero_ext', 'manzana']  # Agrega aquí las columnas que quieras sumar\n",
    "\n",
    "# Realizar la agrupación y las agregaciones\n",
    "grouped_df = summary.groupby('id')[aggregation_columns].agg({'sum'}).reset_index()\n",
    "grouped_df2 = summary.groupby('id').agg(total=('id', 'count')).reset_index()\n",
    "grouped_df2.columns = ['id'] + [f'{pref}_total']\n",
    "\n",
    "\n",
    "\n",
    "# Renombrar las columnas resultantes\n",
    "grouped_df.columns = ['id'] + [f'{pref}_suma_{col}' for col in aggregation_columns]\n",
    "\n",
    "# Mostrar el DataFrame resultante\n",
    "centros = grouped_df2.merge(grouped_df)"
   ]
  },
  {
   "cell_type": "code",
   "execution_count": 23,
   "id": "61132390",
   "metadata": {},
   "outputs": [
    {
     "data": {
      "text/html": [
       "<div>\n",
       "<style scoped>\n",
       "    .dataframe tbody tr th:only-of-type {\n",
       "        vertical-align: middle;\n",
       "    }\n",
       "\n",
       "    .dataframe tbody tr th {\n",
       "        vertical-align: top;\n",
       "    }\n",
       "\n",
       "    .dataframe thead th {\n",
       "        text-align: right;\n",
       "    }\n",
       "</style>\n",
       "<table border=\"1\" class=\"dataframe\">\n",
       "  <thead>\n",
       "    <tr style=\"text-align: right;\">\n",
       "      <th></th>\n",
       "      <th>id</th>\n",
       "      <th>recreativo_total</th>\n",
       "      <th>recreativo_suma_per_ocu</th>\n",
       "      <th>recreativo_suma_numero_ext</th>\n",
       "      <th>recreativo_suma_manzana</th>\n",
       "    </tr>\n",
       "  </thead>\n",
       "  <tbody>\n",
       "    <tr>\n",
       "      <th>0</th>\n",
       "      <td>1.0</td>\n",
       "      <td>25</td>\n",
       "      <td>46</td>\n",
       "      <td>3583.0</td>\n",
       "      <td>272</td>\n",
       "    </tr>\n",
       "    <tr>\n",
       "      <th>1</th>\n",
       "      <td>2.0</td>\n",
       "      <td>26</td>\n",
       "      <td>46</td>\n",
       "      <td>3382.0</td>\n",
       "      <td>308</td>\n",
       "    </tr>\n",
       "    <tr>\n",
       "      <th>2</th>\n",
       "      <td>3.0</td>\n",
       "      <td>10</td>\n",
       "      <td>22</td>\n",
       "      <td>1822.0</td>\n",
       "      <td>98</td>\n",
       "    </tr>\n",
       "    <tr>\n",
       "      <th>3</th>\n",
       "      <td>4.0</td>\n",
       "      <td>8</td>\n",
       "      <td>17</td>\n",
       "      <td>1725.0</td>\n",
       "      <td>48</td>\n",
       "    </tr>\n",
       "    <tr>\n",
       "      <th>4</th>\n",
       "      <td>5.0</td>\n",
       "      <td>18</td>\n",
       "      <td>35</td>\n",
       "      <td>1866.0</td>\n",
       "      <td>353</td>\n",
       "    </tr>\n",
       "  </tbody>\n",
       "</table>\n",
       "</div>"
      ],
      "text/plain": [
       "    id  recreativo_total  recreativo_suma_per_ocu recreativo_suma_numero_ext  \\\n",
       "0  1.0                25                       46                     3583.0   \n",
       "1  2.0                26                       46                     3382.0   \n",
       "2  3.0                10                       22                     1822.0   \n",
       "3  4.0                 8                       17                     1725.0   \n",
       "4  5.0                18                       35                     1866.0   \n",
       "\n",
       "  recreativo_suma_manzana  \n",
       "0                     272  \n",
       "1                     308  \n",
       "2                      98  \n",
       "3                      48  \n",
       "4                     353  "
      ]
     },
     "execution_count": 23,
     "metadata": {},
     "output_type": "execute_result"
    }
   ],
   "source": [
    "centros.head()"
   ]
  },
  {
   "cell_type": "code",
   "execution_count": 24,
   "id": "db33d793",
   "metadata": {},
   "outputs": [],
   "source": [
    "centros.to_csv('centros_'+pref+'s'+'.csv')"
   ]
  },
  {
   "cell_type": "code",
   "execution_count": null,
   "id": "2a163e39",
   "metadata": {},
   "outputs": [],
   "source": []
  }
 ],
 "metadata": {
  "kernelspec": {
   "display_name": "Python 3 (ipykernel)",
   "language": "python",
   "name": "python3"
  },
  "language_info": {
   "codemirror_mode": {
    "name": "ipython",
    "version": 3
   },
   "file_extension": ".py",
   "mimetype": "text/x-python",
   "name": "python",
   "nbconvert_exporter": "python",
   "pygments_lexer": "ipython3",
   "version": "3.9.7"
  }
 },
 "nbformat": 4,
 "nbformat_minor": 5
}
